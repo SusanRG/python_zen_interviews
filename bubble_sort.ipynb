{
 "cells": [
  {
   "cell_type": "markdown",
   "metadata": {},
   "source": [
    "# Bubble sort"
   ]
  },
  {
   "cell_type": "markdown",
   "metadata": {},
   "source": []
  },
  {
   "cell_type": "code",
   "execution_count": 8,
   "metadata": {
    "collapsed": false
   },
   "outputs": [
    {
     "name": "stdout",
     "output_type": "stream",
     "text": [
      "elements to sort 9\n",
      "iteration 1 placeholder 8 index 0\n",
      "iteration 2 placeholder 8 index 1\n",
      "iteration 3 placeholder 8 index 2\n",
      "iteration 4 placeholder 8 index 3\n",
      "iteration 5 placeholder 8 index 4\n",
      "iteration 6 placeholder 8 index 5\n",
      "iteration 7 placeholder 8 index 6\n",
      "iteration 8 placeholder 8 index 7\n",
      "iteration 9 placeholder 7 index 0\n",
      "iteration 10 placeholder 7 index 1\n",
      "iteration 11 placeholder 7 index 2\n",
      "iteration 12 placeholder 7 index 3\n",
      "iteration 13 placeholder 7 index 4\n",
      "iteration 14 placeholder 7 index 5\n",
      "iteration 15 placeholder 7 index 6\n",
      "iteration 16 placeholder 6 index 0\n",
      "iteration 17 placeholder 6 index 1\n",
      "iteration 18 placeholder 6 index 2\n",
      "iteration 19 placeholder 6 index 3\n",
      "iteration 20 placeholder 6 index 4\n",
      "iteration 21 placeholder 6 index 5\n",
      "iteration 22 placeholder 5 index 0\n",
      "iteration 23 placeholder 5 index 1\n",
      "iteration 24 placeholder 5 index 2\n",
      "iteration 25 placeholder 5 index 3\n",
      "iteration 26 placeholder 5 index 4\n",
      "iteration 27 placeholder 4 index 0\n",
      "iteration 28 placeholder 4 index 1\n",
      "iteration 29 placeholder 4 index 2\n",
      "iteration 30 placeholder 4 index 3\n",
      "iteration 31 placeholder 3 index 0\n",
      "iteration 32 placeholder 3 index 1\n",
      "iteration 33 placeholder 3 index 2\n",
      "iteration 34 placeholder 2 index 0\n",
      "iteration 35 placeholder 2 index 1\n",
      "iteration 36 placeholder 1 index 0\n",
      "[1, 2, 3, 4, 5, 6, 7, 8, 9]\n"
     ]
    }
   ],
   "source": [
    "def bubble_sort(alist: list):\n",
    "    print(\"elements to sort\", len(alist))\n",
    "    temp_list = []\n",
    "    iteration = 0\n",
    "    \n",
    "    # step backwards thru the list\n",
    "    start = len(alist)-1\n",
    "    stop = 0\n",
    "    step = -1\n",
    "    for placeholder in range(start, stop, step):\n",
    "        for i in range(placeholder):\n",
    "            iteration = iteration + 1\n",
    "            print(\"iteration\", iteration, \"placeholder\", placeholder, \"index\", i)\n",
    "            if alist[i] > alist[i+1]:\n",
    "                temp = alist[i]\n",
    "                alist[i] = alist[i+1]\n",
    "                alist[i+1] = temp\n",
    "\n",
    "alist = [4,8,2,5,9,1,6,3,7]\n",
    "bubble_sort(alist)\n",
    "print(alist)"
   ]
  },
  {
   "cell_type": "code",
   "execution_count": null,
   "metadata": {
    "collapsed": true
   },
   "outputs": [],
   "source": []
  }
 ],
 "metadata": {
  "kernelspec": {
   "display_name": "conda env py352_tf_gpu",
   "language": "python",
   "name": "py352_tf_gpu"
  },
  "language_info": {
   "codemirror_mode": {
    "name": "ipython",
    "version": 3
   },
   "file_extension": ".py",
   "mimetype": "text/x-python",
   "name": "python",
   "nbconvert_exporter": "python",
   "pygments_lexer": "ipython3",
   "version": "3.5.2"
  },
  "widgets": {
   "state": {},
   "version": "1.1.2"
  }
 },
 "nbformat": 4,
 "nbformat_minor": 2
}
