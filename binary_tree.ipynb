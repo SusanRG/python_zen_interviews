{
 "cells": [
  {
   "cell_type": "code",
   "execution_count": null,
   "metadata": {
    "collapsed": true,
    "deletable": true,
    "editable": true
   },
   "outputs": [],
   "source": [
    "class Node:\n",
    "    def __init__(self, value):\n",
    "        # payload this node will carry\n",
    "        self.value = value\n",
    "        # binary children nodes (left and right)\n",
    "        self.left = None\n",
    "        self.right = None\n",
    "        \n",
    "    def insert(self, data):\n",
    "        if self.value == data:\n",
    "            # we are not allowing to insert same data twice\n",
    "            return False\n",
    "        elif self.value > data:\n",
    "            # if the incoming data is SMALLER than the node's value\n",
    "            if self.leftChild:\n",
    "                # if left child node exists, insert into it\n",
    "                return self.leftChild.insert(data) # recursive call\n",
    "            else\n",
    "                # if left child does not exist, create new node\n",
    "                self.leftChild = Node(data)\n",
    "                return True\n",
    "        else:\n",
    "            # if the incoming data is BIGGER than the node's value\n",
    "            if self.rightChild:\n",
    "                # if right child node exists, insert into it\n",
    "                return self.rightChild.insert(data) # recursive call\n",
    "            else\n",
    "                # if right child does not exist, create new node\n",
    "                self.rightChild = Node(data)\n",
    "                return True\n",
    "            \n",
    "            \n",
    "class Tree:\n",
    "    def __init__(self):\n",
    "        # start empty\n",
    "        self.root = None\n",
    "        \n",
    "    def insert(self, data):\n",
    "        if self.root:\n",
    "            # if it has root, then we insert data into the root\n",
    "            return self.root.insert(data) # True or False\n",
    "        else:\n",
    "            # if it does not have a root node, create a new Node\n",
    "            self.root = Node(data)\n",
    "            return True\n",
    "        "
   ]
  }
 ],
 "metadata": {
  "kernelspec": {
   "display_name": "conda env py352_tf_gpu",
   "language": "python",
   "name": "py352_tf_gpu"
  },
  "language_info": {
   "codemirror_mode": {
    "name": "ipython",
    "version": 3
   },
   "file_extension": ".py",
   "mimetype": "text/x-python",
   "name": "python",
   "nbconvert_exporter": "python",
   "pygments_lexer": "ipython3",
   "version": "3.5.2"
  },
  "widgets": {
   "state": {},
   "version": "1.1.2"
  }
 },
 "nbformat": 4,
 "nbformat_minor": 2
}
