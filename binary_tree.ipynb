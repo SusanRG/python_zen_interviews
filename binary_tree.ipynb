{
 "cells": [
  {
   "cell_type": "code",
   "execution_count": 12,
   "metadata": {
    "collapsed": false,
    "deletable": true,
    "editable": true
   },
   "outputs": [],
   "source": [
    "class Node:\n",
    "    def __init__(self, value):\n",
    "        # payload this node will carry\n",
    "        self.value = value\n",
    "        # binary children nodes (left and right)\n",
    "        self.leftChild = None\n",
    "        self.rightChild = None\n",
    "        \n",
    "    def insert(self, data):\n",
    "        if self.value == data:\n",
    "            # we are not allowing to insert same data twice\n",
    "            return False\n",
    "        elif self.value > data:\n",
    "            # if the incoming data is SMALLER than the node's value\n",
    "            if self.leftChild:\n",
    "                # if left child node exists, insert into it\n",
    "                return self.leftChild.insert(data) # recursive call\n",
    "            else:\n",
    "                # if left child does not exist, create new node\n",
    "                self.leftChild = Node(data)\n",
    "                return True\n",
    "        else:\n",
    "            # if the incoming data is BIGGER than the node's value\n",
    "            if self.rightChild:\n",
    "                # if right child node exists, insert into it\n",
    "                return self.rightChild.insert(data) # recursive call\n",
    "            else:\n",
    "                # if right child does not exist, create new node\n",
    "                self.rightChild = Node(data)\n",
    "                return True\n",
    "    \n",
    "    def find(self, data):\n",
    "        if self.value == data:\n",
    "            return True\n",
    "        elif self.value > data:\n",
    "            if self.leftChild:\n",
    "                return self.leftChild.find(data) # recursive\n",
    "            else: \n",
    "                return False # not in the left branch\n",
    "        else:\n",
    "            # data must be BIGGER than stored value\n",
    "            if self.rightChild:\n",
    "                return self.rightChild.find(data) # recursive\n",
    "            else: \n",
    "                return False # not in the right branch\n",
    "            "
   ]
  },
  {
   "cell_type": "code",
   "execution_count": 13,
   "metadata": {
    "collapsed": true
   },
   "outputs": [],
   "source": [
    "class Tree:\n",
    "    def __init__(self):\n",
    "        # start empty\n",
    "        self.root = None\n",
    "        \n",
    "    def insert(self, data):\n",
    "        if self.root:\n",
    "            # if it has root, then we insert data into the root\n",
    "            return self.root.insert(data) # True or False\n",
    "        else:\n",
    "            # if it does not have a root node, create a new Node\n",
    "            self.root = Node(data)\n",
    "            return True\n",
    "        \n",
    "    def find(self, data):\n",
    "        if self.root:\n",
    "            return self.root.find(data) # recursive call\n",
    "        else:\n",
    "            return False # did not find node"
   ]
  },
  {
   "cell_type": "code",
   "execution_count": 14,
   "metadata": {
    "collapsed": false
   },
   "outputs": [
    {
     "data": {
      "text/plain": [
       "True"
      ]
     },
     "execution_count": 14,
     "metadata": {},
     "output_type": "execute_result"
    }
   ],
   "source": [
    "# TEST\n",
    "\n",
    "tree = Tree()\n",
    "tree.insert(5)"
   ]
  },
  {
   "cell_type": "code",
   "execution_count": 15,
   "metadata": {
    "collapsed": false
   },
   "outputs": [
    {
     "data": {
      "text/plain": [
       "True"
      ]
     },
     "execution_count": 15,
     "metadata": {},
     "output_type": "execute_result"
    }
   ],
   "source": [
    "tree.find(5)"
   ]
  },
  {
   "cell_type": "code",
   "execution_count": 16,
   "metadata": {
    "collapsed": false
   },
   "outputs": [
    {
     "data": {
      "text/plain": [
       "False"
      ]
     },
     "execution_count": 16,
     "metadata": {},
     "output_type": "execute_result"
    }
   ],
   "source": [
    "tree.find(6)"
   ]
  },
  {
   "cell_type": "code",
   "execution_count": 17,
   "metadata": {
    "collapsed": false
   },
   "outputs": [
    {
     "data": {
      "text/plain": [
       "True"
      ]
     },
     "execution_count": 17,
     "metadata": {},
     "output_type": "execute_result"
    }
   ],
   "source": [
    "tree.insert(6)"
   ]
  },
  {
   "cell_type": "code",
   "execution_count": 18,
   "metadata": {
    "collapsed": false
   },
   "outputs": [
    {
     "data": {
      "text/plain": [
       "True"
      ]
     },
     "execution_count": 18,
     "metadata": {},
     "output_type": "execute_result"
    }
   ],
   "source": [
    "tree.find(6)"
   ]
  },
  {
   "cell_type": "code",
   "execution_count": 19,
   "metadata": {
    "collapsed": false
   },
   "outputs": [
    {
     "data": {
      "text/plain": [
       "False"
      ]
     },
     "execution_count": 19,
     "metadata": {},
     "output_type": "execute_result"
    }
   ],
   "source": [
    "tree.find(4)"
   ]
  },
  {
   "cell_type": "code",
   "execution_count": 20,
   "metadata": {
    "collapsed": false
   },
   "outputs": [
    {
     "data": {
      "text/plain": [
       "True"
      ]
     },
     "execution_count": 20,
     "metadata": {},
     "output_type": "execute_result"
    }
   ],
   "source": [
    "tree.insert(4)"
   ]
  },
  {
   "cell_type": "code",
   "execution_count": 21,
   "metadata": {
    "collapsed": false
   },
   "outputs": [
    {
     "data": {
      "text/plain": [
       "True"
      ]
     },
     "execution_count": 21,
     "metadata": {},
     "output_type": "execute_result"
    }
   ],
   "source": [
    "tree.find(4)"
   ]
  },
  {
   "cell_type": "code",
   "execution_count": null,
   "metadata": {
    "collapsed": true
   },
   "outputs": [],
   "source": []
  }
 ],
 "metadata": {
  "kernelspec": {
   "display_name": "conda env py352_tf_gpu",
   "language": "python",
   "name": "py352_tf_gpu"
  },
  "language_info": {
   "codemirror_mode": {
    "name": "ipython",
    "version": 3
   },
   "file_extension": ".py",
   "mimetype": "text/x-python",
   "name": "python",
   "nbconvert_exporter": "python",
   "pygments_lexer": "ipython3",
   "version": "3.5.2"
  },
  "widgets": {
   "state": {},
   "version": "1.1.2"
  }
 },
 "nbformat": 4,
 "nbformat_minor": 2
}
